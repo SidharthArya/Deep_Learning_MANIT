{
  "nbformat": 4,
  "nbformat_minor": 0,
  "metadata": {
    "colab": {
      "name": "DCE.ipynb",
      "provenance": [],
      "authorship_tag": "ABX9TyNlBHQST5aS+GwJzNJZ5vPU",
      "include_colab_link": true
    },
    "kernelspec": {
      "name": "python3",
      "display_name": "Python 3"
    }
  },
  "cells": [
    {
      "cell_type": "markdown",
      "metadata": {
        "id": "view-in-github",
        "colab_type": "text"
      },
      "source": [
        "<a href=\"https://colab.research.google.com/github/vsemwal/Deep_Learning_MANIT/blob/master/DCE.ipynb\" target=\"_parent\"><img src=\"https://colab.research.google.com/assets/colab-badge.svg\" alt=\"Open In Colab\"/></a>"
      ]
    },
    {
      "cell_type": "code",
      "metadata": {
        "id": "Cn8d4ZHbicl_",
        "outputId": "ac5abb3a-8ddc-4c3f-a9cc-1fb8f2182a95",
        "colab": {
          "base_uri": "https://localhost:8080/",
          "height": 85
        }
      },
      "source": [
        "import nltk\n",
        "from nltk import WhitespaceTokenizer,WordPunctTokenizer\n",
        "sentence_data=\"This is nachiketa's car, doesn't seem like small car?\"\n",
        "tk=WhitespaceTokenizer();\n",
        "output=tk.tokenize(sentence_data)\n",
        "print(output)\n",
        "print(len(output))\n",
        "\n",
        "tk=WordPunctTokenizer();\n",
        "output=tk.tokenize(sentence_data)\n",
        "print(output)\n",
        "print(len(output))\n"
      ],
      "execution_count": 5,
      "outputs": [
        {
          "output_type": "stream",
          "text": [
            "['This', 'is', \"nachiketa's\", 'car,', \"doesn't\", 'seem', 'like', 'small', 'car?']\n",
            "9\n",
            "['This', 'is', 'nachiketa', \"'\", 's', 'car', ',', 'doesn', \"'\", 't', 'seem', 'like', 'small', 'car', '?']\n",
            "15\n"
          ],
          "name": "stdout"
        }
      ]
    },
    {
      "cell_type": "code",
      "metadata": {
        "id": "rkbT8qi0irMV"
      },
      "source": [
        ""
      ],
      "execution_count": null,
      "outputs": []
    },
    {
      "cell_type": "code",
      "metadata": {
        "id": "TH78VCGNirbq"
      },
      "source": [
        "import nltk\n",
        "from nltk.tokenize import WhitespaceTokenizer, WordPunctTokenizer, TreebankWordTokenizer\n",
        "from nltk.stem import PorterStemmer\n",
        "nltk.download('stopwords')\n",
        "\n",
        "print(len(stopwords.words('english')));\n",
        "#sentence_data = \"Ram, Shyam and Nachiketa are good boy.\"\n",
        "sentence_data=\"This is nachiketa's car, doesn't seem like small car?\"\n",
        "tk=WhitespaceTokenizer()\n",
        "output=tk.tokenize(sentence_data);\n",
        "print(output)\n",
        "print(len(output))\n",
        "\n",
        "tk=WordPunctTokenizer();\n",
        "print(tk.tokenize(sentence_data))\n",
        "print(len(tk.tokenize(sentence_data)))\n",
        "\n",
        "tk=TreebankWordTokenizer();\n",
        "output=tk.tokenize(sentence_data)\n",
        "print(output)\n",
        "print(len(output))"
      ],
      "execution_count": null,
      "outputs": []
    }
  ]
}