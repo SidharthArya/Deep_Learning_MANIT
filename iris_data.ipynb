{
  "nbformat": 4,
  "nbformat_minor": 0,
  "metadata": {
    "colab": {
      "name": "iris data.ipynb",
      "provenance": [],
      "authorship_tag": "ABX9TyOUEoMcHvvKN7DvV1CTcyh4",
      "include_colab_link": true
    },
    "kernelspec": {
      "name": "python3",
      "display_name": "Python 3"
    }
  },
  "cells": [
    {
      "cell_type": "markdown",
      "metadata": {
        "id": "view-in-github",
        "colab_type": "text"
      },
      "source": [
        "<a href=\"https://colab.research.google.com/github/vsemwal/Deep_Learning_MANIT/blob/master/iris_data.ipynb\" target=\"_parent\"><img src=\"https://colab.research.google.com/assets/colab-badge.svg\" alt=\"Open In Colab\"/></a>"
      ]
    },
    {
      "cell_type": "code",
      "metadata": {
        "id": "4T8phJW8eNsc",
        "colab_type": "code",
        "outputId": "93ffa897-5272-4e61-bbff-44771c3db5c8",
        "colab": {
          "base_uri": "https://localhost:8080/",
          "height": 973
        }
      },
      "source": [
        "import os\n",
        "import matplotlib.pyplot as plt\n",
        "import tensorflow as tf\n",
        "train_dataset_url = \"https://storage.googleapis.com/download.tensorflow.org/data/iris_training.csv\"\n",
        "\n",
        "train_dataset_fp = tf.keras.utils.get_file(fname=os.path.basename(train_dataset_url),\n",
        "                                           origin=train_dataset_url)\n",
        "\n",
        "print(\"Local copy of the dataset file: {}\".format(train_dataset_fp))\n",
        "column_names = ['sepal_length', 'sepal_width', 'petal_length', 'petal_width', 'species']\n",
        "\n",
        "feature_names = column_names[:-1]\n",
        "label_name = column_names[-1]\n",
        "\n",
        "print(\"Features: {}\".format(feature_names))\n",
        "print(\"Label: {}\".format(label_name))\n",
        "class_names = ['Iris setosa', 'Iris versicolor', 'Iris virginica']\n",
        "batch_size = 32\n",
        "\n",
        "train_dataset = tf.data.experimental.make_csv_dataset(\n",
        "    train_dataset_fp,\n",
        "    batch_size,\n",
        "    column_names=column_names,\n",
        "    label_name=label_name,\n",
        "    num_epochs=1)\n",
        "features, labels = next(iter(train_dataset))\n",
        "print(features)\n",
        "plt.scatter(features['petal_length'],\n",
        "            features['sepal_length'],\n",
        "            c=labels,\n",
        "            cmap='viridis')\n",
        "\n",
        "plt.xlabel(\"Petal length\")\n",
        "plt.ylabel(\"Sepal length\")\n",
        "plt.show()\n",
        "def pack_features_vector(features, labels):\n",
        "  \"\"\"Pack the features into a single array.\"\"\"\n",
        "  features = tf.stack(list(features.values()), axis=1)\n",
        "  return features, labels\n",
        "train_dataset = train_dataset.map(pack_features_vector)\n",
        "features, labels = next(iter(train_dataset))\n",
        "\n",
        "print(features[:5])\n",
        "model = tf.keras.Sequential([\n",
        "  tf.keras.layers.Dense(10, activation=tf.nn.relu, input_shape=(4,)),  # input shape required\n",
        "  tf.keras.layers.Dense(10, activation=tf.nn.relu),\n",
        "  tf.keras.layers.Dense(3)\n",
        "])\n",
        "model.summary();\n",
        "predictions = model(features)\n",
        "predictions[:5]\n",
        "tf.nn.softmax(predictions[:5])\n",
        "print(\"Prediction: {}\".format(tf.argmax(predictions, axis=1)))\n",
        "print(\"    Labels: {}\".format(labels))"
      ],
      "execution_count": 0,
      "outputs": [
        {
          "output_type": "stream",
          "text": [
            "Downloading data from https://storage.googleapis.com/download.tensorflow.org/data/iris_training.csv\n",
            "\r8192/2194 [================================================================================================================] - 0s 0us/step\n",
            "Local copy of the dataset file: /root/.keras/datasets/iris_training.csv\n",
            "Features: ['sepal_length', 'sepal_width', 'petal_length', 'petal_width']\n",
            "Label: species\n",
            "OrderedDict([('sepal_length', <tf.Tensor: shape=(32,), dtype=float32, numpy=\n",
            "array([7.4, 6.7, 7.7, 6.3, 4.4, 5. , 6.8, 6.5, 6.8, 4.8, 4.8, 7.2, 5.8,\n",
            "       4.7, 4.6, 6.3, 6.6, 7.2, 4.7, 6.2, 5.7, 5. , 6.9, 4.4, 5.5, 6.5,\n",
            "       4.6, 7.9, 6.3, 6.3, 5.1, 5.6], dtype=float32)>), ('sepal_width', <tf.Tensor: shape=(32,), dtype=float32, numpy=\n",
            "array([2.8, 3. , 2.6, 2.7, 3.2, 3. , 2.8, 3. , 3.2, 3. , 3. , 3.2, 2.6,\n",
            "       3.2, 3.1, 3.3, 3. , 3. , 3.2, 3.4, 2.8, 3.4, 3.1, 2.9, 2.6, 3. ,\n",
            "       3.2, 3.8, 2.3, 3.4, 3.8, 2.7], dtype=float32)>), ('petal_length', <tf.Tensor: shape=(32,), dtype=float32, numpy=\n",
            "array([6.1, 5.2, 6.9, 4.9, 1.3, 1.6, 4.8, 5.5, 5.9, 1.4, 1.4, 6. , 4. ,\n",
            "       1.3, 1.5, 4.7, 4.4, 5.8, 1.6, 5.4, 4.5, 1.6, 5.1, 1.4, 4.4, 5.2,\n",
            "       1.4, 6.4, 4.4, 5.6, 1.9, 4.2], dtype=float32)>), ('petal_width', <tf.Tensor: shape=(32,), dtype=float32, numpy=\n",
            "array([1.9, 2.3, 2.3, 1.8, 0.2, 0.2, 1.4, 1.8, 2.3, 0.1, 0.3, 1.8, 1.2,\n",
            "       0.2, 0.2, 1.6, 1.4, 1.6, 0.2, 2.3, 1.3, 0.4, 2.3, 0.2, 1.2, 2. ,\n",
            "       0.2, 2. , 1.3, 2.4, 0.4, 1.3], dtype=float32)>)])\n"
          ],
          "name": "stdout"
        },
        {
          "output_type": "display_data",
          "data": {
            "image/png": "[encoded data removed]",
            "text/plain": [
              "<Figure size 432x288 with 1 Axes>"
            ]
          },
          "metadata": {
            "tags": [],
            "needs_background": "light"
          }
        },
        {
          "output_type": "stream",
          "text": [
            "tf.Tensor(\n",
            "[[5.7 4.4 1.5 0.4]\n",
            " [6.9 3.1 4.9 1.5]\n",
            " [6.8 2.8 4.8 1.4]\n",
            " [5.1 2.5 3.  1.1]\n",
            " [7.7 2.8 6.7 2. ]], shape=(5, 4), dtype=float32)\n",
            "Model: \"sequential\"\n",
            "_________________________________________________________________\n",
            "Layer (type)                 Output Shape              Param #   \n",
            "=================================================================\n",
            "dense (Dense)                (None, 10)                50        \n",
            "_________________________________________________________________\n",
            "dense_1 (Dense)              (None, 10)                110       \n",
            "_________________________________________________________________\n",
            "dense_2 (Dense)              (None, 3)                 33        \n",
            "=================================================================\n",
            "Total params: 193\n",
            "Trainable params: 193\n",
            "Non-trainable params: 0\n",
            "_________________________________________________________________\n",
            "Prediction: [1 1 1 1 1 1 1 1 1 1 1 1 1 1 1 0 1 1 1 1 0 1 1 1 1 1 1 1 1 0 1 1]\n",
            "    Labels: [0 1 1 1 2 1 0 0 2 1 2 2 1 2 2 0 1 0 1 1 0 0 1 1 2 2 2 1 0 0 1 0]\n"
          ],
          "name": "stdout"
        }
      ]
    },
    {
      "cell_type": "code",
      "metadata": {
        "id": "TYqGzP2fgNKg",
        "colab_type": "code",
        "outputId": "95c45f7b-6ff8-4559-c12f-1a36c82bffd3",
        "colab": {
          "base_uri": "https://localhost:8080/",
          "height": 69
        }
      },
      "source": [
        "column_names = ['sepal_length', 'sepal_width', 'petal_length', 'petal_width', 'species']\n",
        "\n",
        "feature_names = column_names[:-1]\n",
        "label_name = column_names[-1]\n",
        "\n",
        "predict_dataset = tf.convert_to_tensor([\n",
        "    [5.1, 3.3, 1.7, 0.5,],\n",
        "    [5.9, 3.0, 4.2, 1.5,],\n",
        "    [6.9, 3.1, 5.4, 2.1]\n",
        "])\n",
        "\n",
        "# training=False is needed only if there are layers with different\n",
        "# behavior during training versus inference (e.g. Dropout).\n",
        "predictions = model(predict_dataset, training=False)\n",
        "\n",
        "for i, logits in enumerate(predictions):\n",
        "  class_idx = tf.argmax(logits).numpy()\n",
        "  p = tf.nn.softmax(logits)[class_idx]\n",
        "  name = class_names[class_idx]\n",
        "  print(\"Example {} prediction: {} ({:4.1f}%)\".format(i, name, 100*p))"
      ],
      "execution_count": 0,
      "outputs": [
        {
          "output_type": "stream",
          "text": [
            "Example 0 prediction: Iris versicolor (41.5%)\n",
            "Example 1 prediction: Iris versicolor (52.8%)\n",
            "Example 2 prediction: Iris versicolor (58.9%)\n"
          ],
          "name": "stdout"
        }
      ]
    }
  ]
}